{
  "nbformat": 4,
  "nbformat_minor": 0,
  "metadata": {
    "colab": {
      "provenance": [],
      "authorship_tag": "ABX9TyNM41gT3g/Ak5MCAnsFM228",
      "include_colab_link": true
    },
    "kernelspec": {
      "name": "python3",
      "display_name": "Python 3"
    },
    "language_info": {
      "name": "python"
    }
  },
  "cells": [
    {
      "cell_type": "markdown",
      "metadata": {
        "id": "view-in-github",
        "colab_type": "text"
      },
      "source": [
        "<a href=\"https://colab.research.google.com/github/nissysathwika/Anamoly-detection/blob/main/Hierarchical_clustering.ipynb\" target=\"_parent\"><img src=\"https://colab.research.google.com/assets/colab-badge.svg\" alt=\"Open In Colab\"/></a>"
      ]
    },
    {
      "cell_type": "code",
      "execution_count": null,
      "metadata": {
        "id": "Z0BBfo8qiR10"
      },
      "outputs": [],
      "source": [
        "import pandas as pd\n",
        "\n",
        "# Load the dataset and take only 2000 rows\n",
        "data = pd.read_csv('transaction.csv')  # Replace with your file path\n",
        "data_sample = data.iloc[:2000]  # Select only the first 2000 rows\n"
      ]
    },
    {
      "cell_type": "code",
      "source": [
        "import pandas as pd\n",
        "from sklearn.preprocessing import StandardScaler\n",
        "\n",
        "# Load the dataset and take only 2000 rows\n",
        "data = pd.read_csv('transaction.csv')  # Replace with your file path\n",
        "data_sample = data.iloc[:2000]  # Select only the first 2000 rows\n",
        "\n",
        "# Fill missing values for numeric columns only\n",
        "numeric_data = data_sample.select_dtypes(include=['float64', 'int64'])\n",
        "numeric_data = numeric_data.fillna(numeric_data.mean())\n",
        "\n",
        "# Scale the numeric data\n",
        "scaler = StandardScaler()\n",
        "scaled_data = scaler.fit_transform(numeric_data)"
      ],
      "metadata": {
        "id": "PmNZ5QQsJ2lT"
      },
      "execution_count": null,
      "outputs": []
    },
    {
      "cell_type": "code",
      "source": [
        "from sklearn.cluster import AgglomerativeClustering\n",
        "\n",
        "# Apply Hierarchical Clustering\n",
        "hc = AgglomerativeClustering(n_clusters=3, metric='euclidean', linkage='ward')\n",
        "cluster_labels = hc.fit_predict(scaled_data)\n",
        "\n",
        "# Add cluster labels as a new column using .loc to avoid SettingWithCopyWarning\n",
        "data_sample.loc[:, 'Cluster'] = cluster_labels\n"
      ],
      "metadata": {
        "id": "LWft8qPzKCZe"
      },
      "execution_count": null,
      "outputs": []
    },
    {
      "cell_type": "code",
      "source": [
        "from sklearn.metrics import silhouette_score\n",
        "\n",
        "# Calculate Silhouette Score\n",
        "silhouette_avg = silhouette_score(scaled_data, cluster_labels)\n",
        "print(f\"Silhouette Score: {silhouette_avg}\")\n"
      ],
      "metadata": {
        "colab": {
          "base_uri": "https://localhost:8080/"
        },
        "id": "TpomQUgVKbyq",
        "outputId": "65730a07-3b66-449e-d3ae-054a65699a8e"
      },
      "execution_count": null,
      "outputs": [
        {
          "output_type": "stream",
          "name": "stdout",
          "text": [
            "Silhouette Score: 0.5720270515694394\n"
          ]
        }
      ]
    },
    {
      "cell_type": "code",
      "source": [
        "import pandas as pd\n",
        "from sklearn.preprocessing import StandardScaler\n",
        "from sklearn.impute import SimpleImputer\n",
        "from sklearn.feature_selection import VarianceThreshold\n",
        "from sklearn.cluster import AgglomerativeClustering\n",
        "from sklearn.metrics import accuracy_score\n",
        "import numpy as np\n",
        "# Step 1: Preprocessing\n",
        "# Load the dataset\n",
        "data = pd.read_csv('transaction.csv') # Load the dataframe\n",
        "\n",
        "# Sample 5000 rows\n",
        "sampled_data = data.sample(5000, random_state=42)\n",
        "\n",
        "# Dropping irrelevant columns\n",
        "processed_data = sampled_data.drop(columns=['Timestamp', 'TransactionID', 'AccountID'])\n",
        "\n",
        "# One-hot encoding for categorical variables\n",
        "processed_data = pd.get_dummies(processed_data, columns=['Merchant', 'TransactionType', 'Location'], drop_first=True)\n",
        "\n",
        "# Impute missing values (numerical: median, categorical: mode)\n",
        "num_imputer = SimpleImputer(strategy='median')\n",
        "processed_data['Amount'] = num_imputer.fit_transform(processed_data[['Amount']])\n",
        "\n",
        "# Fill NaNs in categorical variables (from one-hot encoding) with 0\n",
        "processed_data.fillna(0, inplace=True)\n",
        "\n",
        "# Feature Scaling for 'Amount' column\n",
        "scaler = StandardScaler()\n",
        "processed_data['Amount'] = scaler.fit_transform(processed_data[['Amount']])"
      ],
      "metadata": {
        "id": "fZWIJ-FSGmlX"
      },
      "execution_count": null,
      "outputs": []
    },
    {
      "cell_type": "code",
      "source": [
        "# Step 2: Feature Selection using Variance Threshold\n",
        "# Set a variance threshold to remove features with very low variance\n",
        "var_thresh = VarianceThreshold(threshold=0.01)  # You can adjust this threshold\n",
        "selected_features = var_thresh.fit_transform(processed_data)"
      ],
      "metadata": {
        "id": "DcZ1P0br8Fk8"
      },
      "execution_count": null,
      "outputs": []
    },
    {
      "cell_type": "code",
      "source": [
        "# Step 3: Apply Hierarchical Clustering\n",
        "hierarchical_model = AgglomerativeClustering(n_clusters=2)\n",
        "cluster_labels = hierarchical_model.fit_predict(selected_features)\n",
        "\n",
        "# Simulate 'true_labels' (since this is unsupervised)\n",
        "true_labels = np.random.choice([1, -1], size=5000, p=[0.9, 0.1])  # 90% normal, 10% anomalies\n",
        "\n",
        "# Map cluster labels to 1 and -1 for comparison with true_labels\n",
        "mapped_labels = np.where(cluster_labels == cluster_labels[0], 1, -1)"
      ],
      "metadata": {
        "id": "E2CdaUU08KAt"
      },
      "execution_count": null,
      "outputs": []
    },
    {
      "cell_type": "code",
      "source": [
        "# Calculate accuracy\n",
        "accuracy = accuracy_score(true_labels, mapped_labels)\n",
        "print(f'Clustering Accuracy: {accuracy}')"
      ],
      "metadata": {
        "colab": {
          "base_uri": "https://localhost:8080/"
        },
        "id": "Mu-vT2o38PJx",
        "outputId": "e41854d0-4a46-415a-9bb1-ee46f6a89af6"
      },
      "execution_count": null,
      "outputs": [
        {
          "output_type": "stream",
          "name": "stdout",
          "text": [
            "Clustering Accuracy: 0.4484\n"
          ]
        }
      ]
    },
    {
      "cell_type": "code",
      "source": [
        "import pandas as pd\n",
        "from sklearn.preprocessing import StandardScaler\n",
        "from sklearn.impute import SimpleImputer\n",
        "from sklearn.decomposition import PCA\n",
        "from sklearn.cluster import AgglomerativeClustering\n",
        "from sklearn.metrics import silhouette_score, davies_bouldin_score\n",
        "\n",
        "\n",
        "\n",
        "# Step 1: Preprocessing\n",
        "# Sample 10,000 rows to work with a large enough dataset\n",
        "sampled_data = data.sample(10000, random_state=42)\n",
        "\n",
        "# Dropping irrelevant columns\n",
        "processed_data = sampled_data.drop(columns=['Timestamp', 'TransactionID', 'AccountID'])\n",
        "\n",
        "# One-hot encoding for categorical variables\n",
        "processed_data = pd.get_dummies(processed_data, columns=['Merchant', 'TransactionType', 'Location'], drop_first=True)\n",
        "\n",
        "# Impute missing values (numerical: median)\n",
        "num_imputer = SimpleImputer(strategy='median')\n",
        "processed_data['Amount'] = num_imputer.fit_transform(processed_data[['Amount']])\n",
        "\n",
        "# Fill NaNs in categorical variables (from one-hot encoding) with 0\n",
        "processed_data.fillna(0, inplace=True)\n",
        "\n",
        "# Feature Scaling\n",
        "scaler = StandardScaler()\n",
        "scaled_data = pd.DataFrame(scaler.fit_transform(processed_data), columns=processed_data.columns)\n",
        "\n",
        "# Step 2: Dimensionality Reduction using PCA\n",
        "pca = PCA(n_components=0.95)  # Retain 95% variance\n",
        "pca_data = pca.fit_transform(scaled_data)\n",
        "\n",
        "# Step 3: Apply Hierarchical Clustering\n",
        "# Try with different number of clusters (e.g., 3, 4, 5)\n",
        "best_score = -1\n",
        "best_n_clusters = 0\n",
        "results = []\n",
        "\n",
        "for n_clusters in range(3, 6):  # You can adjust this range\n",
        "    hc = AgglomerativeClustering(n_clusters=n_clusters, linkage='ward')  # Try 'ward' linkage\n",
        "    cluster_labels = hc.fit_predict(pca_data)\n",
        "\n",
        "    silhouette_avg = silhouette_score(pca_data, cluster_labels)\n",
        "    davies_bouldin_avg = davies_bouldin_score(pca_data, cluster_labels)\n",
        "    results.append((n_clusters, silhouette_avg, davies_bouldin_avg))\n",
        "\n",
        "    if silhouette_avg > best_score:\n",
        "        best_score = silhouette_avg\n",
        "        best_n_clusters = n_clusters\n",
        "\n",
        "# Final clustering with the best number of clusters\n",
        "final_hc = AgglomerativeClustering(n_clusters=best_n_clusters, linkage='ward')\n",
        "final_labels = final_hc.fit_predict(pca_data)\n",
        "\n",
        "# Print results\n",
        "for n_clusters, silhouette_avg, davies_bouldin_avg in results:\n",
        "    print(f'n_clusters = {n_clusters}, Silhouette Score: {silhouette_avg}, Davies-Bouldin Index: {davies_bouldin_avg}')\n",
        "\n",
        "# Final evaluation using the best number of clusters\n",
        "final_silhouette = silhouette_score(pca_data, final_labels)\n",
        "final_davies_bouldin = davies_bouldin_score(pca_data, final_labels)\n",
        "\n",
        "print(f'Best Number of Clusters: {best_n_clusters}')\n",
        "print(f'Final Silhouette Score: {final_silhouette}')\n",
        "print(f'Final Davies-Bouldin Index: {final_davies_bouldin}')\n"
      ],
      "metadata": {
        "colab": {
          "base_uri": "https://localhost:8080/"
        },
        "id": "AqJ6uaMF80ww",
        "outputId": "bb88119f-8bdf-476c-88c2-6818f51cca5f"
      },
      "execution_count": null,
      "outputs": [
        {
          "output_type": "stream",
          "name": "stdout",
          "text": [
            "n_clusters = 3, Silhouette Score: 0.13302042009915202, Davies-Bouldin Index: 1.8464536070550632\n",
            "n_clusters = 4, Silhouette Score: 0.171513717901693, Davies-Bouldin Index: 1.8177905286073868\n",
            "n_clusters = 5, Silhouette Score: 0.20922623500622875, Davies-Bouldin Index: 1.7831425669878933\n",
            "Best Number of Clusters: 5\n",
            "Final Silhouette Score: 0.20922623500622875\n",
            "Final Davies-Bouldin Index: 1.7831425669878933\n"
          ]
        }
      ]
    },
    {
      "cell_type": "code",
      "source": [
        "import pandas as pd\n",
        "from sklearn.preprocessing import MinMaxScaler\n",
        "from sklearn.impute import SimpleImputer\n",
        "from sklearn.decomposition import PCA\n",
        "from sklearn.feature_selection import VarianceThreshold\n",
        "from sklearn.cluster import AgglomerativeClustering\n",
        "from sklearn.metrics import silhouette_score, davies_bouldin_score\n",
        "from sklearn.feature_selection import SelectKBest, f_classif\n",
        "\n",
        "\n",
        "\n",
        "# Step 1: Preprocessing\n",
        "# Sample 10,000 rows to work with a large enough dataset\n",
        "sampled_data = data.sample(10000, random_state=42)\n",
        "\n",
        "# Dropping irrelevant columns\n",
        "processed_data = sampled_data.drop(columns=['Timestamp', 'TransactionID', 'AccountID'])\n",
        "\n",
        "# One-hot encoding for categorical variables\n",
        "processed_data = pd.get_dummies(processed_data, columns=['Merchant', 'TransactionType', 'Location'], drop_first=True)\n",
        "\n",
        "# Impute missing values (numerical: median)\n",
        "num_imputer = SimpleImputer(strategy='median')\n",
        "processed_data['Amount'] = num_imputer.fit_transform(processed_data[['Amount']])\n",
        "\n",
        "# Fill NaNs in categorical variables (from one-hot encoding) with 0\n",
        "processed_data.fillna(0, inplace=True)\n",
        "\n",
        "# Feature Scaling using MinMaxScaler\n",
        "scaler = MinMaxScaler()\n",
        "scaled_data = pd.DataFrame(scaler.fit_transform(processed_data), columns=processed_data.columns)\n",
        "\n",
        "# Step 2: Dimensionality Reduction using PCA\n",
        "pca = PCA(n_components=0.90)  # Retain 90% variance\n",
        "pca_data = pca.fit_transform(scaled_data)\n",
        "\n",
        "\n",
        "\n",
        "# Step 4: Apply Hierarchical Clustering with different number of clusters and linkage\n",
        "# Trying with n_clusters = 6\n",
        "hierarchical_model = AgglomerativeClustering(n_clusters=6, linkage='average')  # Try 'average' linkage\n",
        "cluster_labels = hierarchical_model.fit_predict(selected_features)\n",
        "\n",
        "# Step 5: Evaluate the clustering using Silhouette Score and Davies-Bouldin Index\n",
        "silhouette_avg = silhouette_score(selected_features, cluster_labels)\n",
        "davies_bouldin_avg = davies_bouldin_score(selected_features, cluster_labels)\n",
        "\n",
        "# Print the evaluation results\n",
        "print(f'Silhouette Score: {silhouette_avg}')\n",
        "print(f'Davies-Bouldin Index: {davies_bouldin_avg}')\n"
      ],
      "metadata": {
        "colab": {
          "base_uri": "https://localhost:8080/",
          "height": 211
        },
        "id": "IipBgH61_7if",
        "outputId": "80883829-6611-428f-eefc-875442baa3bc"
      },
      "execution_count": null,
      "outputs": [
        {
          "output_type": "error",
          "ename": "NameError",
          "evalue": "name 'selected_features' is not defined",
          "traceback": [
            "\u001b[0;31m---------------------------------------------------------------------------\u001b[0m",
            "\u001b[0;31mNameError\u001b[0m                                 Traceback (most recent call last)",
            "\u001b[0;32m<ipython-input-2-0b131521fb0c>\u001b[0m in \u001b[0;36m<cell line: 42>\u001b[0;34m()\u001b[0m\n\u001b[1;32m     40\u001b[0m \u001b[0;31m# Trying with n_clusters = 6\u001b[0m\u001b[0;34m\u001b[0m\u001b[0;34m\u001b[0m\u001b[0m\n\u001b[1;32m     41\u001b[0m \u001b[0mhierarchical_model\u001b[0m \u001b[0;34m=\u001b[0m \u001b[0mAgglomerativeClustering\u001b[0m\u001b[0;34m(\u001b[0m\u001b[0mn_clusters\u001b[0m\u001b[0;34m=\u001b[0m\u001b[0;36m6\u001b[0m\u001b[0;34m,\u001b[0m \u001b[0mlinkage\u001b[0m\u001b[0;34m=\u001b[0m\u001b[0;34m'average'\u001b[0m\u001b[0;34m)\u001b[0m  \u001b[0;31m# Try 'average' linkage\u001b[0m\u001b[0;34m\u001b[0m\u001b[0;34m\u001b[0m\u001b[0m\n\u001b[0;32m---> 42\u001b[0;31m \u001b[0mcluster_labels\u001b[0m \u001b[0;34m=\u001b[0m \u001b[0mhierarchical_model\u001b[0m\u001b[0;34m.\u001b[0m\u001b[0mfit_predict\u001b[0m\u001b[0;34m(\u001b[0m\u001b[0mselected_features\u001b[0m\u001b[0;34m)\u001b[0m\u001b[0;34m\u001b[0m\u001b[0;34m\u001b[0m\u001b[0m\n\u001b[0m\u001b[1;32m     43\u001b[0m \u001b[0;34m\u001b[0m\u001b[0m\n\u001b[1;32m     44\u001b[0m \u001b[0;31m# Step 5: Evaluate the clustering using Silhouette Score and Davies-Bouldin Index\u001b[0m\u001b[0;34m\u001b[0m\u001b[0;34m\u001b[0m\u001b[0m\n",
            "\u001b[0;31mNameError\u001b[0m: name 'selected_features' is not defined"
          ]
        }
      ]
    },
    {
      "cell_type": "code",
      "source": [
        "import pandas as pd\n",
        "from sklearn.preprocessing import StandardScaler\n",
        "from sklearn.impute import SimpleImputer\n",
        "from sklearn.feature_selection import VarianceThreshold\n",
        "from sklearn.cluster import AgglomerativeClustering\n",
        "from sklearn.metrics import silhouette_score, davies_bouldin_score\n",
        "\n",
        "\n",
        "\n",
        "# Step 1: Preprocessing\n",
        "# Sample 10,000 rows for analysis\n",
        "sampled_data = data.sample(10000, random_state=42)\n",
        "\n",
        "# Dropping irrelevant columns\n",
        "processed_data = sampled_data.drop(columns=['Timestamp', 'TransactionID', 'AccountID'])\n",
        "\n",
        "# One-hot encoding for categorical variables\n",
        "processed_data = pd.get_dummies(processed_data, columns=['Merchant', 'TransactionType', 'Location'], drop_first=True)\n",
        "\n",
        "# Impute missing values for the 'Amount' column (numerical: median)\n",
        "num_imputer = SimpleImputer(strategy='median')\n",
        "processed_data['Amount'] = num_imputer.fit_transform(processed_data[['Amount']])\n",
        "\n",
        "# Fill NaNs in categorical variables (from one-hot encoding) with 0\n",
        "processed_data.fillna(0, inplace=True)\n",
        "\n",
        "# Step 2: Feature Selection using Variance Threshold\n",
        "# Remove features with variance below a certain threshold (e.g., 0.01)\n",
        "var_thresh = VarianceThreshold(threshold=0.01)  # Adjust the threshold as needed\n",
        "selected_features = var_thresh.fit_transform(processed_data)\n",
        "\n",
        "# Convert back to DataFrame to retain feature names\n",
        "selected_feature_names = processed_data.columns[var_thresh.get_support()]\n",
        "selected_data = pd.DataFrame(selected_features, columns=selected_feature_names)\n",
        "\n",
        "# Step 3: Feature Scaling\n",
        "scaler = StandardScaler()\n",
        "scaled_data = scaler.fit_transform(selected_data)\n",
        "\n",
        "# Step 4: Apply Hierarchical Clustering\n",
        "# Try with different number of clusters\n",
        "best_score = -1\n",
        "best_n_clusters = 0\n",
        "results = []\n",
        "\n",
        "for n_clusters in range(3, 6):  # Adjust this range for more clusters\n",
        "    hc = AgglomerativeClustering(n_clusters=n_clusters, linkage='ward')\n",
        "    cluster_labels = hc.fit_predict(scaled_data)\n",
        "\n",
        "    silhouette_avg = silhouette_score(scaled_data, cluster_labels)\n",
        "    davies_bouldin_avg = davies_bouldin_score(scaled_data, cluster_labels)\n",
        "    results.append((n_clusters, silhouette_avg, davies_bouldin_avg))\n",
        "\n",
        "    if silhouette_avg > best_score:\n",
        "        best_score = silhouette_avg\n",
        "        best_n_clusters = n_clusters\n",
        "\n",
        "# Final clustering with the best number of clusters\n",
        "final_hc = AgglomerativeClustering(n_clusters=best_n_clusters, linkage='ward')\n",
        "final_labels = final_hc.fit_predict(scaled_data)\n",
        "\n",
        "# Print results\n",
        "for n_clusters, silhouette_avg, davies_bouldin_avg in results:\n",
        "    print(f'n_clusters = {n_clusters}, Silhouette Score: {silhouette_avg}, Davies-Bouldin Index: {davies_bouldin_avg}')\n",
        "\n",
        "# Final evaluation using the best number of clusters\n",
        "final_silhouette = silhouette_score(scaled_data, final_labels)\n",
        "final_davies_bouldin = davies_bouldin_score(scaled_data, final_labels)\n",
        "\n",
        "print(f'Best Number of Clusters: {best_n_clusters}')\n",
        "print(f'Final Silhouette Score: {final_silhouette}')\n",
        "print(f'Final Davies-Bouldin Index: {final_davies_bouldin}')\n"
      ],
      "metadata": {
        "colab": {
          "base_uri": "https://localhost:8080/"
        },
        "id": "R6573A6vCLvY",
        "outputId": "ab4547ce-12df-427f-ed19-46660b5110b3"
      },
      "execution_count": null,
      "outputs": [
        {
          "output_type": "stream",
          "name": "stdout",
          "text": [
            "n_clusters = 3, Silhouette Score: 0.1288811664217905, Davies-Bouldin Index: 1.8656162054703371\n",
            "n_clusters = 4, Silhouette Score: 0.16661660908283715, Davies-Bouldin Index: 1.844140004298347\n",
            "n_clusters = 5, Silhouette Score: 0.20366073175317725, Davies-Bouldin Index: 1.8122230828212604\n",
            "Best Number of Clusters: 5\n",
            "Final Silhouette Score: 0.20366073175317725\n",
            "Final Davies-Bouldin Index: 1.8122230828212604\n"
          ]
        }
      ]
    },
    {
      "cell_type": "code",
      "source": [
        "import pandas as pd\n",
        "from sklearn.preprocessing import StandardScaler\n",
        "from sklearn.impute import SimpleImputer\n",
        "from sklearn.feature_selection import VarianceThreshold\n",
        "from sklearn.cluster import AgglomerativeClustering\n",
        "from sklearn.metrics import silhouette_score, davies_bouldin_score\n",
        "import matplotlib.pyplot as plt\n",
        "\n",
        "# Step 1: Preprocessing\n",
        "# Sample 10,000 rows for analysis\n",
        "sampled_data = data.sample(10000, random_state=42)\n",
        "\n",
        "# Dropping irrelevant columns\n",
        "processed_data = sampled_data.drop(columns=['Timestamp', 'TransactionID', 'AccountID'])\n",
        "\n",
        "# One-hot encoding for categorical variables\n",
        "processed_data = pd.get_dummies(processed_data, columns=['Merchant', 'TransactionType', 'Location'], drop_first=True)\n",
        "\n",
        "# Impute missing values for the 'Amount' column (numerical: median)\n",
        "num_imputer = SimpleImputer(strategy='median')\n",
        "processed_data['Amount'] = num_imputer.fit_transform(processed_data[['Amount']])\n",
        "\n",
        "# Fill NaNs in categorical variables (from one-hot encoding) with 0\n",
        "processed_data.fillna(0, inplace=True)\n",
        "\n",
        "# Step 2: Feature Selection using Variance Threshold\n",
        "# Remove features with variance below a certain threshold (e.g., 0.01)\n",
        "var_thresh = VarianceThreshold(threshold=0.01)\n",
        "selected_features = var_thresh.fit_transform(processed_data)\n",
        "\n",
        "# Convert back to DataFrame to retain feature names\n",
        "selected_feature_names = processed_data.columns[var_thresh.get_support()]\n",
        "selected_data = pd.DataFrame(selected_features, columns=selected_feature_names)\n",
        "\n",
        "# Step 3: Feature Scaling\n",
        "scaler = StandardScaler()\n",
        "scaled_data = scaler.fit_transform(selected_data)\n",
        "\n",
        "# Step 4: Apply Hierarchical Clustering\n",
        "best_score = -1\n",
        "best_n_clusters = 0\n",
        "results = []\n",
        "\n",
        "for n_clusters in range(3, 6):  # Adjust this range for more clusters\n",
        "    hc = AgglomerativeClustering(n_clusters=n_clusters, linkage='ward')\n",
        "    cluster_labels = hc.fit_predict(scaled_data)\n",
        "\n",
        "    silhouette_avg = silhouette_score(scaled_data, cluster_labels)\n",
        "    davies_bouldin_avg = davies_bouldin_score(scaled_data, cluster_labels)\n",
        "    results.append((n_clusters, silhouette_avg, davies_bouldin_avg))\n",
        "\n",
        "    if silhouette_avg > best_score:\n",
        "        best_score = silhouette_avg\n",
        "        best_n_clusters = n_clusters\n",
        "\n",
        "# Final clustering with the best number of clusters\n",
        "final_hc = AgglomerativeClustering(n_clusters=best_n_clusters, linkage='ward')\n",
        "final_labels = final_hc.fit_predict(scaled_data)\n",
        "\n",
        "# Print results\n",
        "for n_clusters, silhouette_avg, davies_bouldin_avg in results:\n",
        "    print(f'n_clusters = {n_clusters}, Silhouette Score: {silhouette_avg}, Davies-Bouldin Index: {davies_bouldin_avg}')\n",
        "\n",
        "# Final evaluation using the best number of clusters\n",
        "final_silhouette = silhouette_score(scaled_data, final_labels)\n",
        "final_davies_bouldin = davies_bouldin_score(scaled_data, final_labels)\n",
        "\n",
        "print(f'Best Number of Clusters: {best_n_clusters}')\n",
        "print(f'Final Silhouette Score: {final_silhouette}')\n",
        "print(f'Final Davies-Bouldin Index: {final_davies_bouldin}')\n",
        "\n",
        "# Step 5: Prepare data for plotting\n",
        "n_clusters_list = [n for n, _, _ in results]  # Extract number of clusters\n",
        "silhouette_scores = [s for _, s, _ in results]  # Extract silhouette scores\n",
        "davies_bouldin_scores = [d for _, _, d in results]  # Extract Davies-Bouldin indices\n",
        "\n",
        "# Step 6: Plot the results\n",
        "plt.figure(figsize=(12, 6))\n",
        "\n",
        "# Plot for Silhouette Scores\n",
        "plt.subplot(1, 2, 1)\n",
        "plt.plot(n_clusters_list, silhouette_scores, marker='o', color='blue', label='Silhouette Score')\n",
        "plt.title('Silhouette Score vs Number of Clusters')\n",
        "plt.xlabel('Number of Clusters')\n",
        "plt.ylabel('Silhouette Score')\n",
        "plt.xticks(n_clusters_list)\n",
        "plt.axhline(y=final_silhouette, color='red', linestyle='--', label='Final Silhouette Score')\n",
        "plt.legend()\n",
        "plt.grid()\n",
        "\n",
        "# Plot for Davies-Bouldin Index\n",
        "plt.subplot(1, 2, 2)\n",
        "plt.plot(n_clusters_list, davies_bouldin_scores, marker='o', color='orange', label='Davies-Bouldin Index')\n",
        "plt.title('Davies-Bouldin Index vs Number of Clusters')\n",
        "plt.xlabel('Number of Clusters')\n",
        "plt.ylabel('Davies-Bouldin Index')\n",
        "plt.xticks(n_clusters_list)\n",
        "plt.axhline(y=final_davies_bouldin, color='red', linestyle='--', label='Final Davies-Bouldin Index')\n",
        "plt.legend()\n",
        "plt.grid()\n",
        "\n",
        "# Adjust layout and show the plots\n",
        "plt.tight_layout()\n",
        "plt.show()\n"
      ],
      "metadata": {
        "colab": {
          "base_uri": "https://localhost:8080/",
          "height": 547
        },
        "id": "2Mdl-9ZROf8-",
        "outputId": "7a96bb06-aec2-4d84-c21a-9895eb9e6300"
      },
      "execution_count": null,
      "outputs": [
        {
          "output_type": "stream",
          "name": "stdout",
          "text": [
            "n_clusters = 3, Silhouette Score: 0.1288811664217905, Davies-Bouldin Index: 1.8656162054703371\n",
            "n_clusters = 4, Silhouette Score: 0.16661660908283715, Davies-Bouldin Index: 1.844140004298347\n",
            "n_clusters = 5, Silhouette Score: 0.20366073175317725, Davies-Bouldin Index: 1.8122230828212604\n",
            "Best Number of Clusters: 5\n",
            "Final Silhouette Score: 0.20366073175317725\n",
            "Final Davies-Bouldin Index: 1.8122230828212604\n"
          ]
        },
        {
          "output_type": "display_data",
          "data": {
            "text/plain": [
              "<Figure size 1200x600 with 2 Axes>"
            ],
            "image/png": "[encoded data removed]"
          },
          "metadata": {}
        }
      ]
    }
  ]
}